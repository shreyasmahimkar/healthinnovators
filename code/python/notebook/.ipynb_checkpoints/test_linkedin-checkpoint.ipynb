{
 "cells": [
  {
   "cell_type": "code",
   "execution_count": 3,
   "metadata": {
    "collapsed": true
   },
   "outputs": [],
   "source": [
    "from linkedin import linkedin\n",
    "# This token is generated using the LinkedIn\n",
    "token = \"\"\n",
    "application = linkedin.LinkedInApplication(token=token)"
   ]
  },
  {
   "cell_type": "code",
   "execution_count": 6,
   "metadata": {
    "collapsed": false
   },
   "outputs": [
    {
     "data": {
      "text/plain": [
       "{u'firstName': u'Namrata',\n",
       " u'headline': u'Project Manager at Health Innovators',\n",
       " u'id': u'bNx9Swpj29',\n",
       " u'lastName': u'Patil',\n",
       " u'siteStandardProfileRequest': {u'url': u'https://www.linkedin.com/profile/view?id=AAoAAArI4gABU5GJhRwMdbxY7_0Yi8W3T1wdzdw&authType=name&authToken=cDLh&trk=api*a4289344*s4355434*'}}"
      ]
     },
     "execution_count": 6,
     "metadata": {},
     "output_type": "execute_result"
    }
   ],
   "source": [
    "application.get_profile()"
   ]
  },
  {
   "cell_type": "code",
   "execution_count": null,
   "metadata": {
    "collapsed": true
   },
   "outputs": [],
   "source": []
  }
 ],
 "metadata": {
  "kernelspec": {
   "display_name": "Python 2",
   "language": "python",
   "name": "python2"
  },
  "language_info": {
   "codemirror_mode": {
    "name": "ipython",
    "version": 2
   },
   "file_extension": ".py",
   "mimetype": "text/x-python",
   "name": "python",
   "nbconvert_exporter": "python",
   "pygments_lexer": "ipython2",
   "version": "2.7.11"
  }
 },
 "nbformat": 4,
 "nbformat_minor": 0
}
